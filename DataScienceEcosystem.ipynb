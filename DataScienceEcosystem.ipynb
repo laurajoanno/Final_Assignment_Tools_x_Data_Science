{
 "cells": [
  {
   "cell_type": "markdown",
   "id": "11cfa71a-8cf0-4150-916c-2196d1c38e64",
   "metadata": {},
   "source": [
    "# Data Science Tools and Ecosystem"
   ]
  },
  {
   "cell_type": "markdown",
   "id": "38916f25-c628-4f7f-906f-51219a123d8c",
   "metadata": {},
   "source": [
    "In this notebook, Data Science Tools and Ecosystem are summarized."
   ]
  },
  {
   "cell_type": "markdown",
   "id": "fe741023-810d-44d5-93b8-b3e070904144",
   "metadata": {},
   "source": [
    "**Objectives:**\n",
    "- Create a Jupyter Notebook\n",
    "- Insert code and markdown cells\n",
    "- List popular languages for Data Science\n",
    "- Share your notebook through GitHub"
   ]
  },
  {
   "cell_type": "markdown",
   "id": "6d6ee4db-0eab-4755-8db2-49a8f8224d54",
   "metadata": {},
   "source": [
    "Some of the popular languages that Data Scientists use are:\n",
    "1. Python\n",
    "2. R\n",
    "3. SQL"
   ]
  },
  {
   "cell_type": "markdown",
   "id": "9e894d0b-9624-4b09-8651-10c4debd9690",
   "metadata": {},
   "source": [
    "Some of the commonly used libraries by Data Scientists include:\n",
    "1. Pandas\n",
    "2. NumPy\n",
    "3. SciPy"
   ]
  },
  {
   "cell_type": "markdown",
   "id": "0e0a9393-97b1-41c6-b497-eaeeebe997be",
   "metadata": {},
   "source": [
    "|Data Science Tools|\n",
    "|------------------|\n",
    "|Apache Hadoop|\n",
    "|Apache Spark|\n",
    "|Apache Flink|"
   ]
  },
  {
   "cell_type": "markdown",
   "id": "427416ac-bd2a-494c-b75a-36ff74bff180",
   "metadata": {},
   "source": [
    "### Below are a few examples of evaluating arithmetic expressions in Python\n",
    "# Addition\n",
    "15 + 1.2\n",
    "\n",
    "# Subtraction\n",
    "15 - 1.2\n",
    "\n",
    "# Multiplication\n",
    "15 * 1.2"
   ]
  },
  {
   "cell_type": "markdown",
   "id": "90b4ab71-e34a-461f-a576-3aef1be19f35",
   "metadata": {},
   "source": [
    "# This is a simple arithmetic expression to multiply and then add integers"
   ]
  },
  {
   "cell_type": "code",
   "execution_count": 25,
   "id": "5d3a1984-96f4-4da8-9671-50e65b9f2f0d",
   "metadata": {},
   "outputs": [
    {
     "data": {
      "text/plain": [
       "17"
      ]
     },
     "execution_count": 25,
     "metadata": {},
     "output_type": "execute_result"
    }
   ],
   "source": [
    "(3 * 4) + 5"
   ]
  },
  {
   "cell_type": "markdown",
   "id": "119af586-972e-43cc-857e-ab0736ecbbd8",
   "metadata": {},
   "source": [
    "# This will convert 200 minutes to hours by dividing by 60"
   ]
  },
  {
   "cell_type": "code",
   "execution_count": 20,
   "id": "2e3f1af7-7029-4a32-8446-ed5fd21b7b05",
   "metadata": {},
   "outputs": [
    {
     "data": {
      "text/plain": [
       "3.3333333333333335"
      ]
     },
     "execution_count": 20,
     "metadata": {},
     "output_type": "execute_result"
    }
   ],
   "source": [
    "200 / 60"
   ]
  },
  {
   "cell_type": "markdown",
   "id": "ef066ebd-ecb6-4754-a922-60c27bf820d0",
   "metadata": {},
   "source": [
    "## Author \n",
    "Laura Joanno"
   ]
  },
  {
   "cell_type": "code",
   "execution_count": null,
   "id": "00a2d7c1-df0c-48db-aafa-f2c2096e3f12",
   "metadata": {},
   "outputs": [],
   "source": []
  }
 ],
 "metadata": {
  "kernelspec": {
   "display_name": "Python 3 (ipykernel)",
   "language": "python",
   "name": "python3"
  },
  "language_info": {
   "codemirror_mode": {
    "name": "ipython",
    "version": 3
   },
   "file_extension": ".py",
   "mimetype": "text/x-python",
   "name": "python",
   "nbconvert_exporter": "python",
   "pygments_lexer": "ipython3",
   "version": "3.12.3"
  }
 },
 "nbformat": 4,
 "nbformat_minor": 5
}
